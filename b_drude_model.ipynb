{
 "cells": [
  {
   "cell_type": "code",
   "execution_count": 3,
   "metadata": {
    "collapsed": true
   },
   "outputs": [],
   "source": [
    "import pycharge as pc\n",
    "from numpy import linspace, meshgrid\n",
    "from scipy.constants import e\n",
    "from scipy.constants import electron_mass\n",
    "import pandas as pd\n",
    "import charge\n",
    "import helper_functions as hf\n",
    "import shape\n"
   ]
  },
  {
   "cell_type": "code",
   "execution_count": 3,
   "outputs": [],
   "source": [],
   "metadata": {
    "collapsed": false,
    "pycharm": {
     "name": "#%%\n"
    }
   }
  },
  {
   "cell_type": "code",
   "execution_count": 4,
   "outputs": [
    {
     "ename": "TypeError",
     "evalue": "calculate_electric_field() takes 2 positional arguments but 3 were given",
     "output_type": "error",
     "traceback": [
      "\u001B[1;31m---------------------------------------------------------------------------\u001B[0m",
      "\u001B[1;31mTypeError\u001B[0m                                 Traceback (most recent call last)",
      "Cell \u001B[1;32mIn[4], line 8\u001B[0m\n\u001B[0;32m      6\u001B[0m \u001B[38;5;28;01mfor\u001B[39;00m i \u001B[38;5;129;01min\u001B[39;00m \u001B[38;5;28mrange\u001B[39m(\u001B[38;5;241m100\u001B[39m):\n\u001B[0;32m      7\u001B[0m     \u001B[38;5;28;01mfor\u001B[39;00m charge \u001B[38;5;129;01min\u001B[39;00m sphere\u001B[38;5;241m.\u001B[39mcharges:\n\u001B[1;32m----> 8\u001B[0m         \u001B[43mcharge\u001B[49m\u001B[38;5;241;43m.\u001B[39;49m\u001B[43mcalculate_electric_field\u001B[49m\u001B[43m(\u001B[49m\u001B[43msphere\u001B[49m\u001B[38;5;241;43m.\u001B[39;49m\u001B[43mcharges\u001B[49m\u001B[43m,\u001B[49m\u001B[43m \u001B[49m\u001B[43m[\u001B[49m\u001B[38;5;241;43m0\u001B[39;49m\u001B[43m,\u001B[49m\u001B[38;5;241;43m0\u001B[39;49m\u001B[43m,\u001B[49m\u001B[38;5;241;43m0\u001B[39;49m\u001B[43m]\u001B[49m\u001B[43m)\u001B[49m\n\u001B[0;32m      9\u001B[0m     \u001B[38;5;28;01mfor\u001B[39;00m charge \u001B[38;5;129;01min\u001B[39;00m sphere\u001B[38;5;241m.\u001B[39mcharges:\n\u001B[0;32m     10\u001B[0m         charge\u001B[38;5;241m.\u001B[39mupdate_motion(time_tao)\n",
      "\u001B[1;31mTypeError\u001B[0m: calculate_electric_field() takes 2 positional arguments but 3 were given"
     ]
    }
   ],
   "source": [
    "#problem 2\n",
    "sphere = shape.Sphere(1, 3, [])\n",
    "n = 200\n",
    "time_tao = 10**(-3) # s\n",
    "sphere.distribute_charges_in_sphere(n, e, electron_mass)\n",
    "for i in range(100):\n",
    "    for charge in sphere.charges:\n",
    "        charge.calculate_electric_field(sphere.charges, [0,0,0])\n",
    "    for charge in sphere.charges:\n",
    "        charge.update_motion(time_tao)\n",
    "    sphere.check_charges_in_sphere(time_tao)\n"
   ],
   "metadata": {
    "collapsed": false,
    "pycharm": {
     "name": "#%%\n"
    }
   }
  }
 ],
 "metadata": {
  "kernelspec": {
   "display_name": "Python 3",
   "language": "python",
   "name": "python3"
  },
  "language_info": {
   "codemirror_mode": {
    "name": "ipython",
    "version": 2
   },
   "file_extension": ".py",
   "mimetype": "text/x-python",
   "name": "python",
   "nbconvert_exporter": "python",
   "pygments_lexer": "ipython2",
   "version": "2.7.6"
  }
 },
 "nbformat": 4,
 "nbformat_minor": 0
}