{
 "cells": [
  {
   "cell_type": "markdown",
   "metadata": {
    "collapsed": true,
    "jupyter": {
     "outputs_hidden": true
    },
    "pycharm": {
     "name": "#%% md\n"
    }
   },
   "source": [
    "## A. Charges movement inside a conducting sphere"
   ]
  },
  {
   "cell_type": "code",
   "execution_count": 7,
   "metadata": {
    "collapsed": false,
    "jupyter": {
     "outputs_hidden": false
    },
    "pycharm": {
     "name": "#%%\n"
    }
   },
   "outputs": [],
   "source": [
    "from scipy.constants import e, electron_mass\n",
    "import pandas as pd\n",
    "import charge as ch\n",
    "import helper_functions as hf\n",
    "import matplotlib.pyplot as plt\n",
    "import seaborn as sns"
   ]
  },
  {
   "cell_type": "code",
   "execution_count": 8,
   "metadata": {
    "collapsed": false,
    "jupyter": {
     "outputs_hidden": false
    },
    "pycharm": {
     "name": "#%%\n"
    }
   },
   "outputs": [],
   "source": [
    "#initialize variables\n",
    "electric_field = [30, 0, 0]  # V/m\n",
    "time_tao = 10 ** (-15)  # s\n",
    "time_intervals = 100\n",
    "\n",
    "v = 0.002  # m/s\n",
    "dim = 2\n",
    "paths = {}"
   ]
  },
  {
   "cell_type": "code",
   "execution_count": 9,
   "metadata": {
    "collapsed": false,
    "jupyter": {
     "outputs_hidden": false
    },
    "pycharm": {
     "name": "#%%\n"
    }
   },
   "outputs": [
    {
     "name": "stderr",
     "output_type": "stream",
     "text": [
      "/usr/lib/python3/dist-packages/numpy/core/_asarray.py:83: VisibleDeprecationWarning: Creating an ndarray from ragged nested sequences (which is a list-or-tuple of lists-or-tuples-or ndarrays with different lengths or shapes) is deprecated. If you meant to do this, you must specify 'dtype=object' when creating the ndarray\n",
      "  return array(a, dtype, copy=False, order=order)\n"
     ]
    }
   ],
   "source": [
    "# create 3 options for the charge's path in the field\n",
    "for _ in range(3):\n",
    "    # initialize a new path\n",
    "    charge = ch.Charge(0, 0, 0, 0, -e, electron_mass)\n",
    "    charges = [charge]\n",
    "    initial_position = (0, 0, 0)\n",
    "    data = hf.generate_dataframe([initial_position])\n",
    "\n",
    "    # generate movement over 100 time intervals\n",
    "    for i in range(time_intervals):\n",
    "        # create movement parameters\n",
    "        charge.calculate_electric_field(charges, electric_field)\n",
    "        charge.update_motion(time_tao)\n",
    "        velocity_vec = hf.get_random_velocity(v, dim)\n",
    "        charge.update_position(velocity_vec, time_tao)\n",
    "        hf.update_dataframe(data, [charge])\n",
    "\n",
    "    #calculate drift speed\n",
    "    drift_speed = data['x_pos'].min()/(time_intervals*time_tao)\n",
    "    drift_speed = \"{:.2e}\".format(drift_speed)\n",
    "    # add the charge's path to the list\n",
    "    paths[drift_speed] = data"
   ]
  },
  {
   "cell_type": "code",
   "execution_count": 10,
   "metadata": {
    "collapsed": false,
    "jupyter": {
     "outputs_hidden": false
    },
    "pycharm": {
     "name": "#%%\n"
    }
   },
   "outputs": [
    {
     "data": {
      "text/plain": "{'-2.86e-03':      id         x_pos         y_pos  z_pos  cycle\n 0     1  0.000000e+00  0.000000e+00    0.0      0\n 1     0 -4.223912e-18  1.218857e-18    0.0      1\n 2     0 -5.180999e-18  2.302257e-18    0.0      2\n 3     0 -5.980354e-18  3.088729e-18    0.0      3\n 4     0 -8.777771e-18  5.082384e-18    0.0      4\n ..   ..           ...           ...    ...    ...\n 96    0 -2.771848e-16  8.006888e-18    0.0     96\n 97    0 -2.794890e-16  6.034979e-18    0.0     97\n 98    0 -2.840098e-16  6.710316e-18    0.0     98\n 99    0 -2.854476e-16  5.110600e-18    0.0     99\n 100   0 -2.864578e-16  3.948937e-18    0.0    100\n \n [101 rows x 5 columns],\n '-2.55e-03':      id         x_pos         y_pos  z_pos  cycle\n 0     1  0.000000e+00  0.000000e+00    0.0      0\n 1     0 -4.323726e-18 -1.076617e-18    0.0      1\n 2     0 -5.701110e-18 -2.629121e-18    0.0      2\n 3     0 -1.018424e-17 -1.856880e-18    0.0      3\n 4     0 -1.086689e-17 -1.437699e-18    0.0      4\n ..   ..           ...           ...    ...    ...\n 96    0 -2.453364e-16  5.688300e-18    0.0     96\n 97    0 -2.462182e-16  6.644870e-18    0.0     97\n 98    0 -2.494590e-16  4.737818e-18    0.0     98\n 99    0 -2.537613e-16  3.628312e-18    0.0     99\n 100   0 -2.547842e-16  4.807583e-18    0.0    100\n \n [101 rows x 5 columns],\n '-2.77e-03':      id         x_pos         y_pos  z_pos  cycle\n 0     1  0.000000e+00  0.000000e+00    0.0      0\n 1     0 -4.284642e-18 -1.135486e-18    0.0      1\n 2     0 -8.014717e-18 -2.811157e-18    0.0      2\n 3     0 -1.253629e-17 -3.484221e-18    0.0      3\n 4     0 -1.442186e-17 -5.337190e-18    0.0      4\n ..   ..           ...           ...    ...    ...\n 96    0 -2.623131e-16  1.219587e-17    0.0     96\n 97    0 -2.668209e-16  1.290623e-17    0.0     97\n 98    0 -2.712808e-16  1.208058e-17    0.0     98\n 99    0 -2.753547e-16  1.347293e-17    0.0     99\n 100   0 -2.766495e-16  1.199140e-17    0.0    100\n \n [101 rows x 5 columns]}"
     },
     "execution_count": 10,
     "metadata": {},
     "output_type": "execute_result"
    }
   ],
   "source": [
    "paths"
   ]
  },
  {
   "cell_type": "code",
   "execution_count": 11,
   "metadata": {
    "collapsed": false,
    "jupyter": {
     "outputs_hidden": false
    },
    "pycharm": {
     "name": "#%%\n"
    }
   },
   "outputs": [
    {
     "data": {
      "text/plain": "<Figure size 432x288 with 1 Axes>",
      "image/png": "[encoded data removed]"
     },
     "metadata": {},
     "output_type": "display_data"
    }
   ],
   "source": [
    "# plot the 3d graph of the charge's path\n",
    "path_graph = hf.create_paths_graph(paths)\n",
    "plt.grid(True)\n",
    "sns.set_palette(\"Set2\")\n",
    "sns.set_theme(style='darkgrid')\n",
    "# plot the graph of the\n",
    "plt.show()"
   ]
  },
  {
   "cell_type": "markdown",
   "metadata": {
    "collapsed": false,
    "jupyter": {
     "outputs_hidden": false
    },
    "pycharm": {
     "name": "#%% md\n"
    }
   },
   "source": [
    "## B. Charges movement inside a conducting sphere"
   ]
  },
  {
   "cell_type": "code",
   "execution_count": 12,
   "metadata": {
    "collapsed": false,
    "jupyter": {
     "outputs_hidden": false
    },
    "pycharm": {
     "name": "#%%\n"
    }
   },
   "outputs": [
    {
     "ename": "ModuleNotFoundError",
     "evalue": "No module named 'plotly'",
     "output_type": "error",
     "traceback": [
      "\u001B[0;31m---------------------------------------------------------------------------\u001B[0m",
      "\u001B[0;31mModuleNotFoundError\u001B[0m                       Traceback (most recent call last)",
      "\u001B[0;32m<ipython-input-12-62e90f934c97>\u001B[0m in \u001B[0;36m<module>\u001B[0;34m\u001B[0m\n\u001B[1;32m      5\u001B[0m \u001B[0;32mimport\u001B[0m \u001B[0mcharge\u001B[0m\u001B[0;34m\u001B[0m\u001B[0;34m\u001B[0m\u001B[0m\n\u001B[1;32m      6\u001B[0m \u001B[0;32mimport\u001B[0m \u001B[0mhelper_functions\u001B[0m \u001B[0;32mas\u001B[0m \u001B[0mhf\u001B[0m\u001B[0;34m\u001B[0m\u001B[0;34m\u001B[0m\u001B[0m\n\u001B[0;32m----> 7\u001B[0;31m \u001B[0;32mimport\u001B[0m \u001B[0mshape\u001B[0m\u001B[0;34m\u001B[0m\u001B[0;34m\u001B[0m\u001B[0m\n\u001B[0m",
      "\u001B[0;32m~/dev/ChargeFlowSim/shape.py\u001B[0m in \u001B[0;36m<module>\u001B[0;34m\u001B[0m\n\u001B[1;32m      3\u001B[0m \u001B[0;32mimport\u001B[0m \u001B[0mmath\u001B[0m\u001B[0;34m\u001B[0m\u001B[0;34m\u001B[0m\u001B[0m\n\u001B[1;32m      4\u001B[0m \u001B[0;32mimport\u001B[0m \u001B[0mpandas\u001B[0m \u001B[0;32mas\u001B[0m \u001B[0mpd\u001B[0m\u001B[0;34m\u001B[0m\u001B[0;34m\u001B[0m\u001B[0m\n\u001B[0;32m----> 5\u001B[0;31m \u001B[0;32mimport\u001B[0m \u001B[0mplotly\u001B[0m\u001B[0;34m.\u001B[0m\u001B[0mgraph_objects\u001B[0m \u001B[0;32mas\u001B[0m \u001B[0mgo\u001B[0m\u001B[0;34m\u001B[0m\u001B[0;34m\u001B[0m\u001B[0m\n\u001B[0m\u001B[1;32m      6\u001B[0m \u001B[0;32mimport\u001B[0m \u001B[0mseaborn\u001B[0m \u001B[0;32mas\u001B[0m \u001B[0msns\u001B[0m\u001B[0;34m\u001B[0m\u001B[0;34m\u001B[0m\u001B[0m\n\u001B[1;32m      7\u001B[0m \u001B[0;32mimport\u001B[0m \u001B[0mtypes\u001B[0m\u001B[0;34m\u001B[0m\u001B[0;34m\u001B[0m\u001B[0m\n",
      "\u001B[0;31mModuleNotFoundError\u001B[0m: No module named 'plotly'"
     ]
    }
   ],
   "source": [
    "from numpy import linspace, meshgrid\n",
    "from scipy.constants import e\n",
    "from scipy.constants import electron_mass\n",
    "import pandas as pd\n",
    "import charge\n",
    "import helper_functions as hf\n",
    "import shape"
   ]
  },
  {
   "cell_type": "markdown",
   "metadata": {
    "collapsed": false,
    "jupyter": {
     "outputs_hidden": false
    },
    "pycharm": {
     "name": "#%% md\n"
    }
   },
   "source": []
  },
  {
   "cell_type": "code",
   "execution_count": null,
   "metadata": {
    "collapsed": false,
    "jupyter": {
     "outputs_hidden": false
    },
    "pycharm": {
     "name": "#%%\n"
    }
   },
   "outputs": [],
   "source": [
    "sphere = shape.Sphere(1, 3, [])\n",
    "n = 200\n",
    "tao = 10**(-3)  # s\n",
    "sphere.distribute_charges(n, -e, electron_mass)\n",
    "df = hf.generate_dataframe(sphere.distribution)\n",
    "# sphere.project_distribution_3d()\n",
    "sphere.visualise()"
   ]
  },
  {
   "cell_type": "code",
   "execution_count": null,
   "metadata": {
    "collapsed": false,
    "jupyter": {
     "outputs_hidden": false
    },
    "pycharm": {
     "name": "#%%\n"
    }
   },
   "outputs": [],
   "source": [
    "df"
   ]
  },
  {
   "cell_type": "code",
   "execution_count": null,
   "metadata": {
    "collapsed": false,
    "jupyter": {
     "outputs_hidden": false
    },
    "pycharm": {
     "name": "#%%\n"
    }
   },
   "outputs": [],
   "source": [
    "for i in range(100):\n",
    "    for charge in sphere.charges:\n",
    "        charge.calculate_electric_field(sphere.charges)\n",
    "    for charge in sphere.charges:\n",
    "        charge.update_motion(tao)\n",
    "    sphere.return_charges_to_sphere()"
   ]
  },
  {
   "cell_type": "code",
   "execution_count": null,
   "metadata": {
    "collapsed": false,
    "jupyter": {
     "outputs_hidden": false
    },
    "pycharm": {
     "name": "#%%\n"
    }
   },
   "outputs": [],
   "source": [
    "sphere.project_distribution_3d()\n",
    "sphere.print_charges_inside_volume()"
   ]
  },
  {
   "cell_type": "code",
   "execution_count": null,
   "outputs": [],
   "source": [],
   "metadata": {
    "collapsed": false,
    "pycharm": {
     "name": "#%%\n"
    }
   }
  },
  {
   "cell_type": "code",
   "execution_count": 13,
   "outputs": [
    {
     "ename": "NameError",
     "evalue": "name 'shape' is not defined",
     "output_type": "error",
     "traceback": [
      "\u001B[0;31m---------------------------------------------------------------------------\u001B[0m",
      "\u001B[0;31mNameError\u001B[0m                                 Traceback (most recent call last)",
      "\u001B[0;32m<ipython-input-13-d3bbe573680e>\u001B[0m in \u001B[0;36m<module>\u001B[0;34m\u001B[0m\n\u001B[1;32m      1\u001B[0m \u001B[0;31m# intialize variables\u001B[0m\u001B[0;34m\u001B[0m\u001B[0;34m\u001B[0m\u001B[0;34m\u001B[0m\u001B[0m\n\u001B[0;32m----> 2\u001B[0;31m \u001B[0msphere\u001B[0m \u001B[0;34m=\u001B[0m \u001B[0mshape\u001B[0m\u001B[0;34m.\u001B[0m\u001B[0mSphere\u001B[0m\u001B[0;34m(\u001B[0m\u001B[0;36m1\u001B[0m\u001B[0;34m,\u001B[0m \u001B[0;36m2\u001B[0m\u001B[0;34m,\u001B[0m \u001B[0;34m[\u001B[0m\u001B[0;34m]\u001B[0m\u001B[0;34m)\u001B[0m\u001B[0;34m\u001B[0m\u001B[0;34m\u001B[0m\u001B[0m\n\u001B[0m\u001B[1;32m      3\u001B[0m \u001B[0mn\u001B[0m \u001B[0;34m=\u001B[0m \u001B[0;36m200\u001B[0m\u001B[0;34m\u001B[0m\u001B[0;34m\u001B[0m\u001B[0m\n\u001B[1;32m      4\u001B[0m \u001B[0mtao\u001B[0m \u001B[0;34m=\u001B[0m \u001B[0;36m10\u001B[0m\u001B[0;34m**\u001B[0m\u001B[0;34m(\u001B[0m\u001B[0;34m-\u001B[0m\u001B[0;36m3\u001B[0m\u001B[0;34m)\u001B[0m  \u001B[0;31m# s\u001B[0m\u001B[0;34m\u001B[0m\u001B[0;34m\u001B[0m\u001B[0m\n\u001B[1;32m      5\u001B[0m \u001B[0msphere\u001B[0m\u001B[0;34m.\u001B[0m\u001B[0mdistribute_charges\u001B[0m\u001B[0;34m(\u001B[0m\u001B[0mn\u001B[0m\u001B[0;34m,\u001B[0m \u001B[0;34m-\u001B[0m\u001B[0me\u001B[0m\u001B[0;34m,\u001B[0m \u001B[0melectron_mass\u001B[0m\u001B[0;34m)\u001B[0m\u001B[0;34m\u001B[0m\u001B[0;34m\u001B[0m\u001B[0m\n",
      "\u001B[0;31mNameError\u001B[0m: name 'shape' is not defined"
     ]
    }
   ],
   "source": [
    "# intialize variables\n",
    "sphere = shape.Sphere(1, 2, [])\n",
    "n = 200\n",
    "tao = 10**(-3)  # s\n",
    "sphere.distribute_charges(n, -e, electron_mass)\n",
    "data = hf.generate_dataframe(sphere.distribution)\n",
    "\n",
    "\n",
    "\n"
   ],
   "metadata": {
    "collapsed": false,
    "pycharm": {
     "name": "#%%\n"
    }
   }
  },
  {
   "cell_type": "code",
   "execution_count": null,
   "outputs": [],
   "source": [
    "# run simulation\n",
    "for i in range(200):\n",
    "    for charge in sphere.charges:\n",
    "        charge.calculate_electric_field(sphere.charges)\n",
    "    for charge in sphere.charges:\n",
    "        charge.update_motion(tao)\n",
    "    sphere.return_charges_to_sphere()\n",
    "    hf.update_dataframe(data, sphere.charges)\n",
    "    print(i)\n"
   ],
   "metadata": {
    "collapsed": false,
    "pycharm": {
     "name": "#%%\n"
    }
   }
  },
  {
   "cell_type": "code",
   "execution_count": null,
   "outputs": [],
   "source": [
    "sphere.project_distribution_2d()\n",
    "sphere.project_distribution_2d_2()"
   ],
   "metadata": {
    "collapsed": false,
    "pycharm": {
     "name": "#%%\n"
    }
   }
  }
 ],
 "metadata": {
  "kernelspec": {
   "display_name": "Python 3 (ipykernel)",
   "language": "python",
   "name": "python3"
  },
  "language_info": {
   "codemirror_mode": {
    "name": "ipython",
    "version": 3
   },
   "file_extension": ".py",
   "mimetype": "text/x-python",
   "name": "python",
   "nbconvert_exporter": "python",
   "pygments_lexer": "ipython3",
   "version": "3.9.2"
  }
 },
 "nbformat": 4,
 "nbformat_minor": 4
}