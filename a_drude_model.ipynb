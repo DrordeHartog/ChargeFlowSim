{
 "cells": [
  {
   "cell_type": "code",
   "execution_count": 1,
   "outputs": [
    {
     "name": "stdout",
     "output_type": "stream",
     "text": [
      "[(0.0, -1.0, 0.0), (-0.4634653634889746, -0.7777777777777778, 0.42457223795379545), (0.07269269081806179, -0.5555555555555556, -0.8282957185649263), (0.5736416593807637, -0.33333333333333337, 0.7482139637241293), (-0.9786161295671286, -0.11111111111111116, -0.17310341400072715), (0.838530753589287, 0.11111111111111116, -0.5334046271571298), (-0.24475728589475018, 0.33333333333333326, 0.9104849037135786), (-0.38323470525217274, 0.5555555555555556, -0.7378951045925418), (0.5904004074166422, 0.7777777777777777, 0.2156132818666903), (-0.0, 1.0, 0.0)]\n"
     ]
    }
   ],
   "source": [
    "import pycharge as pc\n",
    "from numpy import linspace, meshgrid\n",
    "from scipy.constants import e\n",
    "from scipy.constants import electron_mass\n",
    "import pandas as pd\n",
    "import charge_lib\n",
    "import helper_functions as hf"
   ],
   "metadata": {
    "collapsed": false,
    "pycharm": {
     "name": "#%%\n"
    }
   }
  },
  {
   "cell_type": "code",
   "execution_count": 2,
   "outputs": [],
   "source": [
    "c = pd.DataFrame()"
   ],
   "metadata": {
    "collapsed": false,
    "pycharm": {
     "name": "#%%\n"
    }
   }
  },
  {
   "cell_type": "code",
   "execution_count": 4,
   "outputs": [
    {
     "name": "stdout",
     "output_type": "stream",
     "text": [
      "x =  2.492932778431238e-16  y =  -5.836375143702327e-19\n"
     ]
    }
   ],
   "source": [
    "electric_field = [30,0, 0] #V/m\n",
    "time_tao = 10**(-15) # s\n",
    "v = 0.002 #m/s\n",
    "dim = 2\n",
    "charge = charge_lib.Charge(e, electron_mass, 0,0,0,0)\n",
    "for i in range(100):\n",
    "    #update dataframe here (charge.x, charge.y, charge.z, time = i)\n",
    "    charge.update_motion(electric_field, time_tao)\n",
    "    velocity_vec = hf.get_random_velocity(v, dim)\n",
    "    charge.update_position(velocity_vec, time_tao)\n",
    "#update final position here\n"
   ],
   "metadata": {
    "collapsed": false,
    "pycharm": {
     "name": "#%%\n"
    }
   }
  }
 ],
 "metadata": {
  "kernelspec": {
   "display_name": "Python 3",
   "language": "python",
   "name": "python3"
  },
  "language_info": {
   "codemirror_mode": {
    "name": "ipython",
    "version": 2
   },
   "file_extension": ".py",
   "mimetype": "text/x-python",
   "name": "python",
   "nbconvert_exporter": "python",
   "pygments_lexer": "ipython2",
   "version": "2.7.6"
  }
 },
 "nbformat": 4,
 "nbformat_minor": 0
}