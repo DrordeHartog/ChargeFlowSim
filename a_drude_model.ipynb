{
 "cells": [
  {
   "cell_type": "code",
   "execution_count": 1,
   "outputs": [
    {
     "name": "stdout",
     "output_type": "stream",
     "text": [
      "[(0.0, -1.0, 0.0), (-0.4634653634889746, -0.7777777777777778, 0.42457223795379545), (0.07269269081806179, -0.5555555555555556, -0.8282957185649263), (0.5736416593807637, -0.33333333333333337, 0.7482139637241293), (-0.9786161295671286, -0.11111111111111116, -0.17310341400072715), (0.838530753589287, 0.11111111111111116, -0.5334046271571298), (-0.24475728589475018, 0.33333333333333326, 0.9104849037135786), (-0.38323470525217274, 0.5555555555555556, -0.7378951045925418), (0.5904004074166422, 0.7777777777777777, 0.2156132818666903), (-0.0, 1.0, 0.0)]\n"
     ]
    }
   ],
   "source": [
    "import pycharge as pc\n",
    "from numpy import linspace, meshgrid\n",
    "from scipy.constants import e\n",
    "from scipy.constants import electron_mass\n",
    "import pandas as pd\n",
    "import charge\n",
    "import helper_functions as hf\n",
    "import shape"
   ],
   "metadata": {
    "collapsed": false,
    "pycharm": {
     "name": "#%%\n"
    }
   }
  },
  {
   "cell_type": "code",
   "execution_count": 2,
   "outputs": [],
   "source": [
    "c = pd.DataFrame()"
   ],
   "metadata": {
    "collapsed": false,
    "pycharm": {
     "name": "#%%\n"
    }
   }
  },
  {
   "cell_type": "code",
   "execution_count": 3,
   "outputs": [
    {
     "name": "stdout",
     "output_type": "stream",
     "text": [
      "Point charge at (2.652541994560347e-16, -4.973636195832321e-19, 0.0) with charge 1.602176634e-19 and mass 9.1093837015e-31\n"
     ]
    }
   ],
   "source": [
    "electric_field = [30,0, 0] #V/m\n",
    "time_tao = 10**(-15) # s\n",
    "v = 0.002 #m/s\n",
    "dim = 2\n",
    "charge = charge.Charge(0,0,0,0,e, electron_mass)\n",
    "for i in range(100):\n",
    "    #update dataframe here (charge.x, charge.y, charge.z, time = i)\\\n",
    "    charge.calculate_electric_field([], electric_field)\n",
    "    charge.update_motion(time_tao)\n",
    "    velocity_vec = hf.get_random_velocity(v, dim)\n",
    "    charge.update_position(velocity_vec, time_tao)\n",
    "\n",
    "print(charge)\n",
    "#update final position here"
   ],
   "metadata": {
    "collapsed": false,
    "pycharm": {
     "name": "#%%\n"
    }
   }
  }
 ],
 "metadata": {
  "kernelspec": {
   "display_name": "Python 3",
   "language": "python",
   "name": "python3"
  },
  "language_info": {
   "codemirror_mode": {
    "name": "ipython",
    "version": 2
   },
   "file_extension": ".py",
   "mimetype": "text/x-python",
   "name": "python",
   "nbconvert_exporter": "python",
   "pygments_lexer": "ipython2",
   "version": "2.7.6"
  }
 },
 "nbformat": 4,
 "nbformat_minor": 0
}