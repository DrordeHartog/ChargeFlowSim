{
 "cells": [
  {
   "cell_type": "code",
   "execution_count": 3,
   "outputs": [],
   "source": [
    "import pycharge as pc\n",
    "from numpy import linspace, meshgrid\n",
    "from scipy.constants import e\n",
    "import pandas as pd\n",
    "import charge_lib\n",
    "import helper_functions as hf"
   ],
   "metadata": {
    "collapsed": false,
    "pycharm": {
     "name": "#%%\n"
    }
   }
  },
  {
   "cell_type": "code",
   "execution_count": 2,
   "outputs": [],
   "source": [
    "c = pd.DataFrame()"
   ],
   "metadata": {
    "collapsed": false,
    "pycharm": {
     "name": "#%%\n"
    }
   }
  },
  {
   "cell_type": "code",
   "execution_count": null,
   "outputs": [],
   "source": [
    "def problem1():\n",
    "    electric_field = [0, 30, 0] #V/m\n",
    "    time_tao = 10**(-15) # s\n",
    "    v = 0.002 #m/s\n",
    "    dim = 2\n",
    "    charge = Charge(e, 0,0,0,1)\n",
    "    for i in range(100):\n",
    "        charge.update_motion(electric_field, time_tao)\n",
    "        velocity_vec = hf.get_random_velocity(v, dim)\n",
    "        charge.update_position(velocity_vec, time_tao)\n",
    "        \n",
    "\n",
    "\n",
    "\n"
   ],
   "metadata": {
    "collapsed": false,
    "pycharm": {
     "name": "#%%\n"
    }
   }
  }
 ],
 "metadata": {
  "kernelspec": {
   "display_name": "Python 3",
   "language": "python",
   "name": "python3"
  },
  "language_info": {
   "codemirror_mode": {
    "name": "ipython",
    "version": 2
   },
   "file_extension": ".py",
   "mimetype": "text/x-python",
   "name": "python",
   "nbconvert_exporter": "python",
   "pygments_lexer": "ipython2",
   "version": "2.7.6"
  }
 },
 "nbformat": 4,
 "nbformat_minor": 0
}