{
 "cells": [
  {
   "cell_type": "code",
   "execution_count": 38,
   "outputs": [],
   "source": [
    "import pycharge as pc\n",
    "from numpy import linspace, meshgrid\n",
    "from scipy.constants import e\n",
    "from scipy.constants import electron_mass\n",
    "import pandas as pd\n",
    "import charge_lib\n",
    "import helper_functions as hf"
   ],
   "metadata": {
    "collapsed": false,
    "pycharm": {
     "name": "#%%\n"
    }
   }
  },
  {
   "cell_type": "code",
   "execution_count": 39,
   "outputs": [],
   "source": [
    "c = pd.DataFrame()"
   ],
   "metadata": {
    "collapsed": false,
    "pycharm": {
     "name": "#%%\n"
    }
   }
  },
  {
   "cell_type": "code",
   "execution_count": 40,
   "outputs": [
    {
     "ename": "ZeroDivisionError",
     "evalue": "float division by zero",
     "output_type": "error",
     "traceback": [
      "\u001B[1;31m---------------------------------------------------------------------------\u001B[0m",
      "\u001B[1;31mZeroDivisionError\u001B[0m                         Traceback (most recent call last)",
      "Cell \u001B[1;32mIn[40], line 7\u001B[0m\n\u001B[0;32m      5\u001B[0m charge \u001B[38;5;241m=\u001B[39m charge_lib\u001B[38;5;241m.\u001B[39mCharge(e, electron_mass, \u001B[38;5;241m0\u001B[39m,\u001B[38;5;241m0\u001B[39m,\u001B[38;5;241m0\u001B[39m,\u001B[38;5;241m1\u001B[39m)\n\u001B[0;32m      6\u001B[0m \u001B[38;5;28;01mfor\u001B[39;00m i \u001B[38;5;129;01min\u001B[39;00m \u001B[38;5;28mrange\u001B[39m(\u001B[38;5;241m100\u001B[39m):\n\u001B[1;32m----> 7\u001B[0m     \u001B[43mcharge\u001B[49m\u001B[38;5;241;43m.\u001B[39;49m\u001B[43mupdate_motion\u001B[49m\u001B[43m(\u001B[49m\u001B[43melectric_field\u001B[49m\u001B[43m,\u001B[49m\u001B[43m \u001B[49m\u001B[43mtime_tao\u001B[49m\u001B[43m)\u001B[49m\n\u001B[0;32m      8\u001B[0m     velocity_vec \u001B[38;5;241m=\u001B[39m hf\u001B[38;5;241m.\u001B[39mget_random_velocity(v, dim)\n\u001B[0;32m      9\u001B[0m     charge\u001B[38;5;241m.\u001B[39mupdate_position(velocity_vec, time_tao)\n",
      "File \u001B[1;32m~\\noams stuff\\dev\\ChargeFlowSim\\charge_lib.py:48\u001B[0m, in \u001B[0;36mCharge.update_motion\u001B[1;34m(self, electric_field, time)\u001B[0m\n\u001B[0;32m     47\u001B[0m \u001B[38;5;28;01mdef\u001B[39;00m \u001B[38;5;21mupdate_motion\u001B[39m(\u001B[38;5;28mself\u001B[39m, electric_field, time):\n\u001B[1;32m---> 48\u001B[0m     \u001B[38;5;28mself\u001B[39m\u001B[38;5;241m.\u001B[39mx \u001B[38;5;241m+\u001B[39m\u001B[38;5;241m=\u001B[39m \u001B[38;5;28;43mself\u001B[39;49m\u001B[38;5;241;43m.\u001B[39;49m\u001B[43mq\u001B[49m\u001B[38;5;241;43m*\u001B[39;49m\u001B[43melectric_field\u001B[49m\u001B[43m[\u001B[49m\u001B[38;5;241;43m0\u001B[39;49m\u001B[43m]\u001B[49m\u001B[38;5;241;43m*\u001B[39;49m\u001B[43m(\u001B[49m\u001B[43mtime\u001B[49m\u001B[38;5;241;43m*\u001B[39;49m\u001B[38;5;241;43m*\u001B[39;49m\u001B[38;5;241;43m2\u001B[39;49m\u001B[43m)\u001B[49m\u001B[38;5;241;43m/\u001B[39;49m\u001B[43m(\u001B[49m\u001B[38;5;241;43m2\u001B[39;49m\u001B[38;5;241;43m*\u001B[39;49m\u001B[38;5;28;43mself\u001B[39;49m\u001B[38;5;241;43m.\u001B[39;49m\u001B[43mm\u001B[49m\u001B[43m)\u001B[49m\n\u001B[0;32m     49\u001B[0m     \u001B[38;5;28mself\u001B[39m\u001B[38;5;241m.\u001B[39my \u001B[38;5;241m+\u001B[39m\u001B[38;5;241m=\u001B[39m \u001B[38;5;28mself\u001B[39m\u001B[38;5;241m.\u001B[39mq\u001B[38;5;241m*\u001B[39melectric_field[\u001B[38;5;241m1\u001B[39m]\u001B[38;5;241m*\u001B[39m(time\u001B[38;5;241m*\u001B[39m\u001B[38;5;241m*\u001B[39m\u001B[38;5;241m2\u001B[39m)\u001B[38;5;241m/\u001B[39m(\u001B[38;5;241m2\u001B[39m\u001B[38;5;241m*\u001B[39m\u001B[38;5;28mself\u001B[39m\u001B[38;5;241m.\u001B[39mm)\n\u001B[0;32m     50\u001B[0m     \u001B[38;5;28mself\u001B[39m\u001B[38;5;241m.\u001B[39mz \u001B[38;5;241m+\u001B[39m\u001B[38;5;241m=\u001B[39m \u001B[38;5;28mself\u001B[39m\u001B[38;5;241m.\u001B[39mq\u001B[38;5;241m*\u001B[39melectric_field[\u001B[38;5;241m2\u001B[39m]\u001B[38;5;241m*\u001B[39m(time\u001B[38;5;241m*\u001B[39m\u001B[38;5;241m*\u001B[39m\u001B[38;5;241m2\u001B[39m)\u001B[38;5;241m/\u001B[39m(\u001B[38;5;241m2\u001B[39m\u001B[38;5;241m*\u001B[39m\u001B[38;5;28mself\u001B[39m\u001B[38;5;241m.\u001B[39mm)\n",
      "\u001B[1;31mZeroDivisionError\u001B[0m: float division by zero"
     ]
    }
   ],
   "source": [
    "electric_field = [0, 30, 0] #V/m\n",
    "time_tao = 10**(-15) # s\n",
    "v = 0.002 #m/s\n",
    "dim = 2\n",
    "charge = charge_lib.Charge(e, electron_mass, 0,0,0,1)\n",
    "for i in range(100):\n",
    "    charge.update_motion(electric_field, time_tao)\n",
    "    velocity_vec = hf.get_random_velocity(v, dim)\n",
    "    charge.update_position(velocity_vec, time_tao)\n",
    "print(\"x = \", charge.x, \" y = \", charge.y)\n",
    "\n"
   ],
   "metadata": {
    "collapsed": false,
    "pycharm": {
     "name": "#%%\n"
    }
   }
  }
 ],
 "metadata": {
  "kernelspec": {
   "display_name": "Python 3",
   "language": "python",
   "name": "python3"
  },
  "language_info": {
   "codemirror_mode": {
    "name": "ipython",
    "version": 2
   },
   "file_extension": ".py",
   "mimetype": "text/x-python",
   "name": "python",
   "nbconvert_exporter": "python",
   "pygments_lexer": "ipython2",
   "version": "2.7.6"
  }
 },
 "nbformat": 4,
 "nbformat_minor": 0
}